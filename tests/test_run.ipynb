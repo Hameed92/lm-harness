{
 "cells": [
  {
   "cell_type": "code",
   "execution_count": 4,
   "metadata": {},
   "outputs": [
    {
     "name": "stderr",
     "output_type": "stream",
     "text": [
      "Failed to detect the name of this notebook, you can set it manually with the WANDB_NOTEBOOK_NAME environment variable to enable code saving.\n",
      "\u001b[34m\u001b[1mwandb\u001b[0m: Logging into wandb.ai. (Learn how to deploy a W&B server locally: https://wandb.me/wandb-server)\n",
      "\u001b[34m\u001b[1mwandb\u001b[0m: You can find your API key in your browser here: https://wandb.ai/authorize\n",
      "\u001b[34m\u001b[1mwandb\u001b[0m: Paste an API key from your profile and hit enter, or press ctrl+c to quit:\u001b[34m\u001b[1mwandb\u001b[0m: Appending key for api.wandb.ai to your netrc file: C:\\Users\\aalothaimen\\.netrc\n"
     ]
    },
    {
     "data": {
      "text/plain": [
       "True"
      ]
     },
     "execution_count": 4,
     "metadata": {},
     "output_type": "execute_result"
    }
   ],
   "source": [
    "import wandb\n",
    "wandb.login()"
   ]
  },
  {
   "cell_type": "code",
   "execution_count": 8,
   "metadata": {},
   "outputs": [
    {
     "name": "stderr",
     "output_type": "stream",
     "text": [
      "wandb: Currently logged in as: hameed (hameed92). Use `wandb login --relogin` to force relogin\n",
      "wandb: Tracking run with wandb version 0.17.0\n",
      "wandb: Run data is saved locally in c:\\Users\\aalothaimen\\Documents\\Work\\Allam\\lm-evaluation-harness\\tests\\wandb\\run-20240515_074351-pm9iw336\n",
      "wandb: Run `wandb offline` to turn off syncing.\n",
      "wandb: Syncing run solar-flower-4\n",
      "wandb:  View project at https://wandb.ai/hameed92/test5\n",
      "wandb:  View run at https://wandb.ai/hameed92/test5/runs/pm9iw336\n",
      "2024-05-15:07:43:56,582 INFO     [__main__.py:254] Verbosity set to INFO\n",
      "2024-05-15:07:43:56,583 INFO     [__main__.py:274] Including path: ./\n",
      "2024-05-15:07:44:04,808 INFO     [__main__.py:341] Selected Tasks: ['exams_ar']\n",
      "2024-05-15:07:44:04,825 INFO     [evaluator.py:141] Setting random seed to 0 | Setting numpy seed to 1234 | Setting torch manual seed to 1234\n",
      "2024-05-15:07:44:04,825 INFO     [evaluator.py:178] Initializing hf model, with arguments: {'pretrained': 'microsoft/phi-1_5', 'trust_remote_code': True}\n",
      "2024-05-15:07:44:04,846 INFO     [huggingface.py:165] Using device 'cuda'\n",
      "Traceback (most recent call last):\n",
      "  File \"c:\\users\\aalothaimen\\appdata\\local\\programs\\python\\python38\\lib\\runpy.py\", line 194, in _run_module_as_main\n",
      "    return _run_code(code, main_globals, None,\n",
      "  File \"c:\\users\\aalothaimen\\appdata\\local\\programs\\python\\python38\\lib\\runpy.py\", line 87, in _run_code\n",
      "    exec(code, run_globals)\n",
      "  File \"C:\\Users\\aalothaimen\\AppData\\Local\\Programs\\Python\\Python38\\Scripts\\lm_eval.exe\\__main__.py\", line 7, in <module>\n",
      "  File \"C:\\Users\\aalothaimen\\Documents\\Work\\Allam\\lm-evaluation-harness\\lm_eval\\__main__.py\", line 347, in cli_evaluate\n",
      "    results = evaluator.simple_evaluate(\n",
      "  File \"C:\\Users\\aalothaimen\\Documents\\Work\\Allam\\lm-evaluation-harness\\lm_eval\\utils.py\", line 321, in _wrapper\n",
      "    return fn(*args, **kwargs)\n",
      "  File \"C:\\Users\\aalothaimen\\Documents\\Work\\Allam\\lm-evaluation-harness\\lm_eval\\evaluator.py\", line 181, in simple_evaluate\n",
      "    lm = lm_eval.api.registry.get_model(model).create_from_arg_string(\n",
      "  File \"C:\\Users\\aalothaimen\\Documents\\Work\\Allam\\lm-evaluation-harness\\lm_eval\\api\\model.py\", line 134, in create_from_arg_string\n",
      "    return cls(**args, **args2)\n",
      "  File \"C:\\Users\\aalothaimen\\Documents\\Work\\Allam\\lm-evaluation-harness\\lm_eval\\models\\huggingface.py\", line 204, in __init__\n",
      "    self._create_model(\n",
      "  File \"C:\\Users\\aalothaimen\\Documents\\Work\\Allam\\lm-evaluation-harness\\lm_eval\\models\\huggingface.py\", line 547, in _create_model\n",
      "    self._model = self.AUTO_MODEL_CLASS.from_pretrained(\n",
      "  File \"c:\\users\\aalothaimen\\appdata\\local\\programs\\python\\python38\\lib\\site-packages\\transformers\\models\\auto\\auto_factory.py\", line 566, in from_pretrained\n",
      "    return model_class.from_pretrained(\n",
      "  File \"c:\\users\\aalothaimen\\appdata\\local\\programs\\python\\python38\\lib\\site-packages\\transformers\\modeling_utils.py\", line 3850, in from_pretrained\n",
      "    ) = cls._load_pretrained_model(\n",
      "  File \"c:\\users\\aalothaimen\\appdata\\local\\programs\\python\\python38\\lib\\site-packages\\transformers\\modeling_utils.py\", line 4284, in _load_pretrained_model\n",
      "    new_error_msgs, offload_index, state_dict_index = _load_state_dict_into_meta_model(\n",
      "  File \"c:\\users\\aalothaimen\\appdata\\local\\programs\\python\\python38\\lib\\site-packages\\transformers\\modeling_utils.py\", line 805, in _load_state_dict_into_meta_model\n",
      "    set_module_tensor_to_device(model, param_name, param_device, **set_module_kwargs)\n",
      "  File \"c:\\users\\aalothaimen\\appdata\\local\\programs\\python\\python38\\lib\\site-packages\\accelerate\\utils\\modeling.py\", line 399, in set_module_tensor_to_device\n",
      "    new_value = value.to(device)\n",
      "  File \"c:\\users\\aalothaimen\\appdata\\local\\programs\\python\\python38\\lib\\site-packages\\torch\\cuda\\__init__.py\", line 293, in _lazy_init\n",
      "    raise AssertionError(\"Torch not compiled with CUDA enabled\")\n",
      "AssertionError: Torch not compiled with CUDA enabled\n"
     ]
    }
   ],
   "source": [
    "!lm_eval \\\n",
    "    --model hf \\\n",
    "    --model_args pretrained=microsoft/phi-1_5,trust_remote_code=True \\\n",
    "    --include_path ./ \\\n",
    "    --tasks exams_ar  \\\n",
    "    --wandb_args project=test5 \\\n",
    "    --log_samples \\\n",
    "    --output_path /test_log \\\n",
    "    --num_fewshot 5"
   ]
  },
  {
   "cell_type": "code",
   "execution_count": null,
   "metadata": {},
   "outputs": [],
   "source": []
  }
 ],
 "metadata": {
  "kernelspec": {
   "display_name": "Python 3",
   "language": "python",
   "name": "python3"
  },
  "language_info": {
   "codemirror_mode": {
    "name": "ipython",
    "version": 3
   },
   "file_extension": ".py",
   "mimetype": "text/x-python",
   "name": "python",
   "nbconvert_exporter": "python",
   "pygments_lexer": "ipython3",
   "version": "3.8.10"
  }
 },
 "nbformat": 4,
 "nbformat_minor": 2
}
